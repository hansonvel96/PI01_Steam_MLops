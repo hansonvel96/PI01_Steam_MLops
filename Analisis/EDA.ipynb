{
 "cells": [
  {
   "cell_type": "markdown",
   "metadata": {},
   "source": [
    "## Análisis Exploratorio de Datos (EDA)"
   ]
  },
  {
   "cell_type": "markdown",
   "metadata": {},
   "source": [
    "Llevaremos a cabo el Análisis Exploratorio de Datos (`EDA`) en cada conjunto de datos derivado del proceso de Extracción, Transformación y Carga (`ETL`). Al completar esta fase, adquiriremos una visión exhaustiva que facilitará la toma de decisiones respecto a las características seleccionadas para entrenar el modelo de recomendación. Este enfoque sistemático garantiza una comprensión detallada de los conjuntos de datos, permitiendo una selección informada de las variables más pertinentes en el contexto del desarrollo del modelo. "
   ]
  },
  {
   "cell_type": "markdown",
   "metadata": {},
   "source": [
    "## Importaciones"
   ]
  },
  {
   "cell_type": "code",
   "execution_count": 4,
   "metadata": {},
   "outputs": [],
   "source": [
    "import pandas as pd\n",
    "import matplotlib.pyplot as plt\n",
    "import seaborn as sns\n",
    "from sklearn.linear_model import LinearRegression\n"
   ]
  },
  {
   "cell_type": "markdown",
   "metadata": {},
   "source": [
    "## EDA del dataset `output`\n",
    "En esta sección se desarrolla el Análisis Exploratorio de los Datos del conjunto `output` que ya pasó por el proceso de ETL."
   ]
  },
  {
   "cell_type": "markdown",
   "metadata": {},
   "source": [
    "### Lectura del conjunto de datos"
   ]
  },
  {
   "cell_type": "markdown",
   "metadata": {},
   "source": [
    "Se leen los datos de archivo parquet y se guarda en un dataframe."
   ]
  },
  {
   "cell_type": "code",
   "execution_count": 5,
   "metadata": {},
   "outputs": [
    {
     "data": {
      "text/html": [
       "<div>\n",
       "<style scoped>\n",
       "    .dataframe tbody tr th:only-of-type {\n",
       "        vertical-align: middle;\n",
       "    }\n",
       "\n",
       "    .dataframe tbody tr th {\n",
       "        vertical-align: top;\n",
       "    }\n",
       "\n",
       "    .dataframe thead th {\n",
       "        text-align: right;\n",
       "    }\n",
       "</style>\n",
       "<table border=\"1\" class=\"dataframe\">\n",
       "  <thead>\n",
       "    <tr style=\"text-align: right;\">\n",
       "      <th></th>\n",
       "      <th>publisher</th>\n",
       "      <th>genres</th>\n",
       "      <th>app_name</th>\n",
       "      <th>release_date</th>\n",
       "      <th>price</th>\n",
       "      <th>item_id</th>\n",
       "      <th>developer</th>\n",
       "    </tr>\n",
       "  </thead>\n",
       "  <tbody>\n",
       "    <tr>\n",
       "      <th>0</th>\n",
       "      <td>2K Games</td>\n",
       "      <td>[Strategy]</td>\n",
       "      <td>Railroad Tycoon II Platinum</td>\n",
       "      <td>1998-10-31</td>\n",
       "      <td>4.99</td>\n",
       "      <td>7620.0</td>\n",
       "      <td>PopTop</td>\n",
       "    </tr>\n",
       "    <tr>\n",
       "      <th>1</th>\n",
       "      <td>2K Games</td>\n",
       "      <td>[Strategy]</td>\n",
       "      <td>X-COM: Terror From the Deep</td>\n",
       "      <td>1995-04-01</td>\n",
       "      <td>4.99</td>\n",
       "      <td>7650.0</td>\n",
       "      <td>MicroProse Software, Inc</td>\n",
       "    </tr>\n",
       "    <tr>\n",
       "      <th>2</th>\n",
       "      <td>Square Enix, Feral Interactive (Mac)</td>\n",
       "      <td>[Action, Adventure]</td>\n",
       "      <td>Tomb Raider: Anniversary</td>\n",
       "      <td>2007-06-05</td>\n",
       "      <td>8.99</td>\n",
       "      <td>8000.0</td>\n",
       "      <td>Crystal Dynamics,Feral Interactive (Mac)</td>\n",
       "    </tr>\n",
       "    <tr>\n",
       "      <th>3</th>\n",
       "      <td>Capcom</td>\n",
       "      <td>[Action]</td>\n",
       "      <td>Devil May Cry® 3 Special Edition</td>\n",
       "      <td>2006-05-23</td>\n",
       "      <td>19.99</td>\n",
       "      <td>6550.0</td>\n",
       "      <td>CAPCOM Co., Ltd.</td>\n",
       "    </tr>\n",
       "    <tr>\n",
       "      <th>4</th>\n",
       "      <td>Telltale Games</td>\n",
       "      <td>[Action, Adventure]</td>\n",
       "      <td>Sam &amp; Max 101: Culture Shock</td>\n",
       "      <td>2006-10-17</td>\n",
       "      <td>19.99</td>\n",
       "      <td>8200.0</td>\n",
       "      <td>Telltale Games</td>\n",
       "    </tr>\n",
       "  </tbody>\n",
       "</table>\n",
       "</div>"
      ],
      "text/plain": [
       "                              publisher               genres  \\\n",
       "0                              2K Games           [Strategy]   \n",
       "1                              2K Games           [Strategy]   \n",
       "2  Square Enix, Feral Interactive (Mac)  [Action, Adventure]   \n",
       "3                                Capcom             [Action]   \n",
       "4                        Telltale Games  [Action, Adventure]   \n",
       "\n",
       "                           app_name release_date  price  item_id  \\\n",
       "0       Railroad Tycoon II Platinum   1998-10-31   4.99   7620.0   \n",
       "1       X-COM: Terror From the Deep   1995-04-01   4.99   7650.0   \n",
       "2          Tomb Raider: Anniversary   2007-06-05   8.99   8000.0   \n",
       "3  Devil May Cry® 3 Special Edition   2006-05-23  19.99   6550.0   \n",
       "4      Sam & Max 101: Culture Shock   2006-10-17  19.99   8200.0   \n",
       "\n",
       "                                  developer  \n",
       "0                                    PopTop  \n",
       "1                  MicroProse Software, Inc  \n",
       "2  Crystal Dynamics,Feral Interactive (Mac)  \n",
       "3                          CAPCOM Co., Ltd.  \n",
       "4                            Telltale Games  "
      ]
     },
     "execution_count": 5,
     "metadata": {},
     "output_type": "execute_result"
    }
   ],
   "source": [
    "df_output = pd.read_parquet('output_steam_games.parquet')\n",
    "df_output.head()"
   ]
  },
  {
   "cell_type": "markdown",
   "metadata": {},
   "source": [
    "#### Hacemos un explode de genres para poder analizar que cantidad de juegos por genero hay"
   ]
  },
  {
   "cell_type": "code",
   "execution_count": 6,
   "metadata": {},
   "outputs": [],
   "source": [
    "df_exploded = df_output.explode('genres').reset_index(drop=True)\n",
    "df_exploded['count'] = df_exploded.groupby(['genres']).cumcount() + 1"
   ]
  },
  {
   "cell_type": "markdown",
   "metadata": {},
   "source": [
    "### Análisis de cada variable de manera individual"
   ]
  },
  {
   "cell_type": "markdown",
   "metadata": {},
   "source": [
    "#### Analizamos los duplicados"
   ]
  },
  {
   "cell_type": "code",
   "execution_count": 7,
   "metadata": {},
   "outputs": [
    {
     "data": {
      "text/plain": [
       "7620.0      1\n",
       "376964.0    1\n",
       "448520.0    1\n",
       "466540.0    1\n",
       "498240.0    1\n",
       "           ..\n",
       "673820.0    1\n",
       "538680.0    1\n",
       "683890.0    1\n",
       "683610.0    1\n",
       "658870.0    1\n",
       "Name: item_id, Length: 22767, dtype: int64"
      ]
     },
     "execution_count": 7,
     "metadata": {},
     "output_type": "execute_result"
    }
   ],
   "source": [
    "call_id_counts = df_output['item_id'].value_counts()\n",
    "call_id_counts"
   ]
  },
  {
   "cell_type": "markdown",
   "metadata": {},
   "source": [
    "No muestra usuarios duplicados"
   ]
  },
  {
   "cell_type": "markdown",
   "metadata": {},
   "source": [
    "### Analizamos los tipos de datos y si hay nulos"
   ]
  },
  {
   "cell_type": "code",
   "execution_count": 8,
   "metadata": {},
   "outputs": [
    {
     "data": {
      "text/html": [
       "<div>\n",
       "<style scoped>\n",
       "    .dataframe tbody tr th:only-of-type {\n",
       "        vertical-align: middle;\n",
       "    }\n",
       "\n",
       "    .dataframe tbody tr th {\n",
       "        vertical-align: top;\n",
       "    }\n",
       "\n",
       "    .dataframe thead th {\n",
       "        text-align: right;\n",
       "    }\n",
       "</style>\n",
       "<table border=\"1\" class=\"dataframe\">\n",
       "  <thead>\n",
       "    <tr style=\"text-align: right;\">\n",
       "      <th></th>\n",
       "      <th>publisher</th>\n",
       "      <th>genres</th>\n",
       "      <th>app_name</th>\n",
       "      <th>release_date</th>\n",
       "      <th>price</th>\n",
       "      <th>item_id</th>\n",
       "      <th>developer</th>\n",
       "    </tr>\n",
       "  </thead>\n",
       "  <tbody>\n",
       "  </tbody>\n",
       "</table>\n",
       "</div>"
      ],
      "text/plain": [
       "Empty DataFrame\n",
       "Columns: [publisher, genres, app_name, release_date, price, item_id, developer]\n",
       "Index: []"
      ]
     },
     "execution_count": 8,
     "metadata": {},
     "output_type": "execute_result"
    }
   ],
   "source": [
    "fila_resultado = df_output[df_output.isnull().all(axis=1)]\n",
    "fila_resultado"
   ]
  },
  {
   "cell_type": "markdown",
   "metadata": {},
   "source": [
    "No se muestran valores NaN o nulos"
   ]
  },
  {
   "cell_type": "code",
   "execution_count": 9,
   "metadata": {},
   "outputs": [
    {
     "name": "stdout",
     "output_type": "stream",
     "text": [
      "<class 'pandas.core.frame.DataFrame'>\n",
      "RangeIndex: 22767 entries, 0 to 22766\n",
      "Data columns (total 7 columns):\n",
      " #   Column        Non-Null Count  Dtype  \n",
      "---  ------        --------------  -----  \n",
      " 0   publisher     22767 non-null  object \n",
      " 1   genres        22767 non-null  object \n",
      " 2   app_name      22767 non-null  object \n",
      " 3   release_date  22767 non-null  object \n",
      " 4   price         22767 non-null  float64\n",
      " 5   item_id       22767 non-null  float64\n",
      " 6   developer     22767 non-null  object \n",
      "dtypes: float64(2), object(5)\n",
      "memory usage: 1.2+ MB\n"
     ]
    }
   ],
   "source": [
    "df_output.info()"
   ]
  },
  {
   "cell_type": "markdown",
   "metadata": {},
   "source": [
    "Se revisan los tipos de datos y no se observan datos nulos ni valores faltantes, lo que corresponde a nuestro ETL Luego de haber realizado limpieza de los mismos"
   ]
  },
  {
   "cell_type": "markdown",
   "metadata": {},
   "source": [
    "### Deteccion de Outliers"
   ]
  },
  {
   "cell_type": "code",
   "execution_count": 10,
   "metadata": {},
   "outputs": [
    {
     "data": {
      "text/html": [
       "<div>\n",
       "<style scoped>\n",
       "    .dataframe tbody tr th:only-of-type {\n",
       "        vertical-align: middle;\n",
       "    }\n",
       "\n",
       "    .dataframe tbody tr th {\n",
       "        vertical-align: top;\n",
       "    }\n",
       "\n",
       "    .dataframe thead th {\n",
       "        text-align: right;\n",
       "    }\n",
       "</style>\n",
       "<table border=\"1\" class=\"dataframe\">\n",
       "  <thead>\n",
       "    <tr style=\"text-align: right;\">\n",
       "      <th></th>\n",
       "      <th>price</th>\n",
       "      <th>item_id</th>\n",
       "    </tr>\n",
       "  </thead>\n",
       "  <tbody>\n",
       "    <tr>\n",
       "      <th>count</th>\n",
       "      <td>22767.000000</td>\n",
       "      <td>2.276700e+04</td>\n",
       "    </tr>\n",
       "    <tr>\n",
       "      <th>mean</th>\n",
       "      <td>9.353512</td>\n",
       "      <td>4.313676e+05</td>\n",
       "    </tr>\n",
       "    <tr>\n",
       "      <th>std</th>\n",
       "      <td>16.916944</td>\n",
       "      <td>1.910907e+05</td>\n",
       "    </tr>\n",
       "    <tr>\n",
       "      <th>min</th>\n",
       "      <td>0.000000</td>\n",
       "      <td>1.000000e+01</td>\n",
       "    </tr>\n",
       "    <tr>\n",
       "      <th>25%</th>\n",
       "      <td>2.990000</td>\n",
       "      <td>3.035400e+05</td>\n",
       "    </tr>\n",
       "    <tr>\n",
       "      <th>50%</th>\n",
       "      <td>4.990000</td>\n",
       "      <td>4.270500e+05</td>\n",
       "    </tr>\n",
       "    <tr>\n",
       "      <th>75%</th>\n",
       "      <td>9.990000</td>\n",
       "      <td>5.808325e+05</td>\n",
       "    </tr>\n",
       "    <tr>\n",
       "      <th>max</th>\n",
       "      <td>995.000000</td>\n",
       "      <td>2.028850e+06</td>\n",
       "    </tr>\n",
       "  </tbody>\n",
       "</table>\n",
       "</div>"
      ],
      "text/plain": [
       "              price       item_id\n",
       "count  22767.000000  2.276700e+04\n",
       "mean       9.353512  4.313676e+05\n",
       "std       16.916944  1.910907e+05\n",
       "min        0.000000  1.000000e+01\n",
       "25%        2.990000  3.035400e+05\n",
       "50%        4.990000  4.270500e+05\n",
       "75%        9.990000  5.808325e+05\n",
       "max      995.000000  2.028850e+06"
      ]
     },
     "execution_count": 10,
     "metadata": {},
     "output_type": "execute_result"
    }
   ],
   "source": [
    "df_output.describe()"
   ]
  },
  {
   "cell_type": "markdown",
   "metadata": {},
   "source": [
    "Creamos los cuadros de precio por juego"
   ]
  },
  {
   "cell_type": "code",
   "execution_count": 11,
   "metadata": {},
   "outputs": [
    {
     "data": {
      "image/png": "[encoded data removed]",
      "text/plain": [
       "<Figure size 2000x600 with 1 Axes>"
      ]
     },
     "metadata": {},
     "output_type": "display_data"
    },
    {
     "data": {
      "image/png": "[encoded data removed]",
      "text/plain": [
       "<Figure size 1000x600 with 1 Axes>"
      ]
     },
     "metadata": {},
     "output_type": "display_data"
    }
   ],
   "source": [
    "\n",
    "plt.figure(figsize=(20, 6))\n",
    "sns.lineplot(df_output['price'])\n",
    "plt.title('Distribución de Precios')\n",
    "plt.xlabel('Precio')\n",
    "plt.ylabel('Juegos')\n",
    "plt.show()\n",
    "plt.figure(figsize=(10, 6))\n",
    "sns.boxplot(x = df_output['price'])\n",
    "plt.title('Distribución de Precios')\n",
    "plt.xlabel('Precio')\n",
    "plt.ylabel('Juegos')\n",
    "plt.show()"
   ]
  },
  {
   "cell_type": "markdown",
   "metadata": {},
   "source": [
    "#### Detectamos algunos outliers, pasamos a analizarlos"
   ]
  },
  {
   "cell_type": "code",
   "execution_count": 12,
   "metadata": {},
   "outputs": [
    {
     "name": "stdout",
     "output_type": "stream",
     "text": [
      "                        publisher  \\\n",
      "8509   Strata Mixed Reality, Inc.   \n",
      "2008                Aerosoft GmbH   \n",
      "10003             RUHRSOURCE GmbH   \n",
      "12413                         CCP   \n",
      "6475              YoYo Games Ltd.   \n",
      "\n",
      "                                                  genres  \\\n",
      "8509   [Animation &amp; Modeling, Design &amp; Illust...   \n",
      "2008                                        [Simulation]   \n",
      "10003  [Animation &amp; Modeling, Design &amp; Illust...   \n",
      "12413         [Free to Play, Massively Multiplayer, RPG]   \n",
      "6475   [Animation &amp; Modeling, Design &amp; Illust...   \n",
      "\n",
      "                                                app_name release_date   price  \\\n",
      "8509     Strata Spaces VR – Professional Edition Upgrade   2017-10-26  995.00   \n",
      "2008                          X-Plane 10 Global - 64 Bit   2014-07-14  771.71   \n",
      "10003  CUR3D Maker Edition - Permission for commercia...   2017-11-06  499.99   \n",
      "12413                             EVE Online: 15400 PLEX   2017-05-09  499.99   \n",
      "6475                           GameMaker Studio 2 Mobile   2017-03-08  399.99   \n",
      "\n",
      "        item_id                   developer  \n",
      "8509   719000.0  Strata Mixed Reality, Inc.  \n",
      "2008   292180.0            Laminar Research  \n",
      "10003  691560.0             RUHRSOURCE GmbH  \n",
      "12413  629796.0                         CCP  \n",
      "6475   585620.0             YoYo Games Ltd.  \n"
     ]
    }
   ],
   "source": [
    "fila_resultado = df_output.nlargest(5, 'price')\n",
    "print(fila_resultado)"
   ]
  },
  {
   "cell_type": "markdown",
   "metadata": {},
   "source": [
    "#### Como se puede ver, los outliers pertenecen a juegos y programas con valores altos, se puede proceder con estos datos"
   ]
  },
  {
   "cell_type": "markdown",
   "metadata": {},
   "source": [
    "### Analizamos la cantidad de generos, registros, juegos y desarrolladores hay"
   ]
  },
  {
   "cell_type": "code",
   "execution_count": 13,
   "metadata": {},
   "outputs": [
    {
     "name": "stdout",
     "output_type": "stream",
     "text": [
      "Indie                        12675\n",
      "Action                        9413\n",
      "Adventure                     7015\n",
      "Casual                        6286\n",
      "Strategy                      5207\n",
      "Simulation                    4715\n",
      "RPG                           3800\n",
      "Free to Play                  1453\n",
      "Early Access                  1369\n",
      "Sports                        1027\n",
      "Racing                         941\n",
      "Massively Multiplayer          813\n",
      "Design &amp; Illustration      343\n",
      "Utilities                      242\n",
      "Web Publishing                 209\n",
      "Animation &amp; Modeling       132\n",
      "Education                      109\n",
      "Software Training               86\n",
      "Video Production                80\n",
      "Audio Production                69\n",
      "Photo Editing                   40\n",
      "Accounting                       7\n",
      "Name: genres, dtype: int64\n"
     ]
    }
   ],
   "source": [
    "call_id_counts = df_exploded['genres'].value_counts()\n",
    "print(call_id_counts)"
   ]
  },
  {
   "cell_type": "code",
   "execution_count": 14,
   "metadata": {},
   "outputs": [
    {
     "name": "stdout",
     "output_type": "stream",
     "text": [
      "La cantidad de registros que hay son: 22767\n"
     ]
    }
   ],
   "source": [
    "print(f'La cantidad de registros que hay son: {df_output.shape[0]}')\n"
   ]
  },
  {
   "cell_type": "code",
   "execution_count": 15,
   "metadata": {},
   "outputs": [
    {
     "name": "stdout",
     "output_type": "stream",
     "text": [
      "Cantidad de desarrolladores: 7903\n"
     ]
    }
   ],
   "source": [
    "# Cantidad de usuarios que dieron su opinion\n",
    "print(f\"Cantidad de desarrolladores: {len(df_output['publisher'].unique())}\")"
   ]
  },
  {
   "cell_type": "code",
   "execution_count": 16,
   "metadata": {},
   "outputs": [
    {
     "name": "stdout",
     "output_type": "stream",
     "text": [
      "Cantidad de titulos disponibles: 22751\n"
     ]
    }
   ],
   "source": [
    "print(f\"Cantidad de titulos disponibles: {len(df_output['app_name'].unique())}\")"
   ]
  },
  {
   "cell_type": "markdown",
   "metadata": {},
   "source": [
    "### Analizamos cuantos juegos son gratis"
   ]
  },
  {
   "cell_type": "code",
   "execution_count": 17,
   "metadata": {},
   "outputs": [
    {
     "name": "stdout",
     "output_type": "stream",
     "text": [
      "Cantidad de desarrolladores con juegos gratis: 994\n"
     ]
    }
   ],
   "source": [
    "publishers_price_zero = df_output.loc[df_output['price'] == 0, 'publisher'].unique()\n",
    "count_publishers_price_zero = len(publishers_price_zero)\n",
    "print(f\"Cantidad de desarrolladores con juegos gratis: {count_publishers_price_zero}\")"
   ]
  },
  {
   "cell_type": "code",
   "execution_count": 18,
   "metadata": {},
   "outputs": [
    {
     "name": "stdout",
     "output_type": "stream",
     "text": [
      "Cantidad de juegos gratis: 1323\n"
     ]
    }
   ],
   "source": [
    "free_games_count = len(df_output[df_output['price'] == 0]['app_name'].unique())\n",
    "print(f\"Cantidad de juegos gratis: {free_games_count}\")"
   ]
  },
  {
   "cell_type": "markdown",
   "metadata": {},
   "source": [
    "## EDA del dataset  `user_items`\n",
    "En esta sección se desarrolla el Análisis Exploratorio de los Datos del conjunto `user_items` que ya pasó por el proceso de ETL."
   ]
  },
  {
   "cell_type": "code",
   "execution_count": 19,
   "metadata": {},
   "outputs": [
    {
     "data": {
      "text/html": [
       "<div>\n",
       "<style scoped>\n",
       "    .dataframe tbody tr th:only-of-type {\n",
       "        vertical-align: middle;\n",
       "    }\n",
       "\n",
       "    .dataframe tbody tr th {\n",
       "        vertical-align: top;\n",
       "    }\n",
       "\n",
       "    .dataframe thead th {\n",
       "        text-align: right;\n",
       "    }\n",
       "</style>\n",
       "<table border=\"1\" class=\"dataframe\">\n",
       "  <thead>\n",
       "    <tr style=\"text-align: right;\">\n",
       "      <th></th>\n",
       "      <th>user_id</th>\n",
       "      <th>item_id</th>\n",
       "      <th>playtime_forever</th>\n",
       "    </tr>\n",
       "  </thead>\n",
       "  <tbody>\n",
       "    <tr>\n",
       "      <th>0</th>\n",
       "      <td>76561197970982479</td>\n",
       "      <td>10</td>\n",
       "      <td>6.0</td>\n",
       "    </tr>\n",
       "    <tr>\n",
       "      <th>1</th>\n",
       "      <td>76561197970982479</td>\n",
       "      <td>30</td>\n",
       "      <td>7.0</td>\n",
       "    </tr>\n",
       "    <tr>\n",
       "      <th>2</th>\n",
       "      <td>76561197970982479</td>\n",
       "      <td>300</td>\n",
       "      <td>4733.0</td>\n",
       "    </tr>\n",
       "    <tr>\n",
       "      <th>3</th>\n",
       "      <td>76561197970982479</td>\n",
       "      <td>240</td>\n",
       "      <td>1853.0</td>\n",
       "    </tr>\n",
       "    <tr>\n",
       "      <th>4</th>\n",
       "      <td>76561197970982479</td>\n",
       "      <td>3830</td>\n",
       "      <td>333.0</td>\n",
       "    </tr>\n",
       "  </tbody>\n",
       "</table>\n",
       "</div>"
      ],
      "text/plain": [
       "             user_id item_id  playtime_forever\n",
       "0  76561197970982479      10               6.0\n",
       "1  76561197970982479      30               7.0\n",
       "2  76561197970982479     300            4733.0\n",
       "3  76561197970982479     240            1853.0\n",
       "4  76561197970982479    3830             333.0"
      ]
     },
     "execution_count": 19,
     "metadata": {},
     "output_type": "execute_result"
    }
   ],
   "source": [
    "df_items = pd.read_parquet('user_items.parquet')\n",
    "df_items.head()"
   ]
  },
  {
   "cell_type": "markdown",
   "metadata": {},
   "source": [
    "### Analizamos los Nulos"
   ]
  },
  {
   "cell_type": "code",
   "execution_count": 20,
   "metadata": {},
   "outputs": [
    {
     "data": {
      "text/html": [
       "<div>\n",
       "<style scoped>\n",
       "    .dataframe tbody tr th:only-of-type {\n",
       "        vertical-align: middle;\n",
       "    }\n",
       "\n",
       "    .dataframe tbody tr th {\n",
       "        vertical-align: top;\n",
       "    }\n",
       "\n",
       "    .dataframe thead th {\n",
       "        text-align: right;\n",
       "    }\n",
       "</style>\n",
       "<table border=\"1\" class=\"dataframe\">\n",
       "  <thead>\n",
       "    <tr style=\"text-align: right;\">\n",
       "      <th></th>\n",
       "      <th>user_id</th>\n",
       "      <th>item_id</th>\n",
       "      <th>playtime_forever</th>\n",
       "    </tr>\n",
       "  </thead>\n",
       "  <tbody>\n",
       "  </tbody>\n",
       "</table>\n",
       "</div>"
      ],
      "text/plain": [
       "Empty DataFrame\n",
       "Columns: [user_id, item_id, playtime_forever]\n",
       "Index: []"
      ]
     },
     "execution_count": 20,
     "metadata": {},
     "output_type": "execute_result"
    }
   ],
   "source": [
    "fila_resultado = df_items[df_items.isnull().all(axis=1)]\n",
    "fila_resultado"
   ]
  },
  {
   "cell_type": "markdown",
   "metadata": {},
   "source": [
    "No hay valores nulos"
   ]
  },
  {
   "cell_type": "markdown",
   "metadata": {},
   "source": [
    "### Analizamos los duplicados"
   ]
  },
  {
   "cell_type": "code",
   "execution_count": 21,
   "metadata": {},
   "outputs": [
    {
     "data": {
      "text/plain": [
       "chidvd               3475\n",
       "thugnificent         3160\n",
       "phrostb              2984\n",
       "djnemonic            2545\n",
       "Steamified           2481\n",
       "                     ... \n",
       "76561198075820559       1\n",
       "76561198099807819       1\n",
       "76561198066805116       1\n",
       "76561198066783139       1\n",
       "76561198096087704       1\n",
       "Name: user_id, Length: 68403, dtype: int64"
      ]
     },
     "execution_count": 21,
     "metadata": {},
     "output_type": "execute_result"
    }
   ],
   "source": [
    "call_id_counts = df_items['user_id'].value_counts()\n",
    "call_id_counts"
   ]
  },
  {
   "cell_type": "markdown",
   "metadata": {},
   "source": [
    "En este caso, los valores duplicados son permitidos, puesto que es un usuario respecto a diferentes juegos, si se borran los duplicados, perdemos informacion vital para el analisis de este dashboard"
   ]
  },
  {
   "cell_type": "code",
   "execution_count": 22,
   "metadata": {},
   "outputs": [
    {
     "name": "stdout",
     "output_type": "stream",
     "text": [
      "<class 'pandas.core.frame.DataFrame'>\n",
      "RangeIndex: 3285246 entries, 0 to 3285245\n",
      "Data columns (total 3 columns):\n",
      " #   Column            Dtype  \n",
      "---  ------            -----  \n",
      " 0   user_id           object \n",
      " 1   item_id           object \n",
      " 2   playtime_forever  float64\n",
      "dtypes: float64(1), object(2)\n",
      "memory usage: 75.2+ MB\n"
     ]
    }
   ],
   "source": [
    "df_items.info()"
   ]
  },
  {
   "cell_type": "markdown",
   "metadata": {},
   "source": [
    "Se revisan los tipos de datos y se observan datos nulos, esto es debido a que no necesariamente una de las 3 columnas este obligadas a responder con un valor, mientras que en por lo menos 1 exista un registro que nos pueda sumar para respectivos analisis"
   ]
  },
  {
   "cell_type": "code",
   "execution_count": 23,
   "metadata": {},
   "outputs": [
    {
     "name": "stdout",
     "output_type": "stream",
     "text": [
      "Cantidad de usuarios: 68403\n"
     ]
    }
   ],
   "source": [
    "print(f\"Cantidad de usuarios: {len(df_items['user_id'].unique())}\")"
   ]
  },
  {
   "cell_type": "code",
   "execution_count": 24,
   "metadata": {},
   "outputs": [
    {
     "name": "stdout",
     "output_type": "stream",
     "text": [
      "Cantidad de horas jugadas en total: 5109381683.0\n"
     ]
    }
   ],
   "source": [
    "print(f\"Cantidad de horas jugadas en total: {df_items['playtime_forever'].sum()}\")"
   ]
  },
  {
   "cell_type": "markdown",
   "metadata": {},
   "source": [
    "### Deteccion de Outliers"
   ]
  },
  {
   "cell_type": "code",
   "execution_count": 25,
   "metadata": {},
   "outputs": [
    {
     "data": {
      "text/html": [
       "<div>\n",
       "<style scoped>\n",
       "    .dataframe tbody tr th:only-of-type {\n",
       "        vertical-align: middle;\n",
       "    }\n",
       "\n",
       "    .dataframe tbody tr th {\n",
       "        vertical-align: top;\n",
       "    }\n",
       "\n",
       "    .dataframe thead th {\n",
       "        text-align: right;\n",
       "    }\n",
       "</style>\n",
       "<table border=\"1\" class=\"dataframe\">\n",
       "  <thead>\n",
       "    <tr style=\"text-align: right;\">\n",
       "      <th></th>\n",
       "      <th>playtime_forever</th>\n",
       "    </tr>\n",
       "  </thead>\n",
       "  <tbody>\n",
       "    <tr>\n",
       "      <th>count</th>\n",
       "      <td>3.285246e+06</td>\n",
       "    </tr>\n",
       "    <tr>\n",
       "      <th>mean</th>\n",
       "      <td>1.555251e+03</td>\n",
       "    </tr>\n",
       "    <tr>\n",
       "      <th>std</th>\n",
       "      <td>6.721032e+03</td>\n",
       "    </tr>\n",
       "    <tr>\n",
       "      <th>min</th>\n",
       "      <td>1.000000e+00</td>\n",
       "    </tr>\n",
       "    <tr>\n",
       "      <th>25%</th>\n",
       "      <td>4.400000e+01</td>\n",
       "    </tr>\n",
       "    <tr>\n",
       "      <th>50%</th>\n",
       "      <td>2.050000e+02</td>\n",
       "    </tr>\n",
       "    <tr>\n",
       "      <th>75%</th>\n",
       "      <td>8.080000e+02</td>\n",
       "    </tr>\n",
       "    <tr>\n",
       "      <th>max</th>\n",
       "      <td>6.427730e+05</td>\n",
       "    </tr>\n",
       "  </tbody>\n",
       "</table>\n",
       "</div>"
      ],
      "text/plain": [
       "       playtime_forever\n",
       "count      3.285246e+06\n",
       "mean       1.555251e+03\n",
       "std        6.721032e+03\n",
       "min        1.000000e+00\n",
       "25%        4.400000e+01\n",
       "50%        2.050000e+02\n",
       "75%        8.080000e+02\n",
       "max        6.427730e+05"
      ]
     },
     "execution_count": 25,
     "metadata": {},
     "output_type": "execute_result"
    }
   ],
   "source": [
    "df_items.describe()"
   ]
  },
  {
   "cell_type": "markdown",
   "metadata": {},
   "source": [
    "Creamos las tablas de minutos jugados"
   ]
  },
  {
   "cell_type": "code",
   "execution_count": 26,
   "metadata": {},
   "outputs": [
    {
     "data": {
      "image/png": "[encoded data removed]",
      "text/plain": [
       "<Figure size 2000x600 with 1 Axes>"
      ]
     },
     "metadata": {},
     "output_type": "display_data"
    },
    {
     "data": {
      "image/png": "[encoded data removed]",
      "text/plain": [
       "<Figure size 1000x600 with 1 Axes>"
      ]
     },
     "metadata": {},
     "output_type": "display_data"
    }
   ],
   "source": [
    "plt.figure(figsize=(20, 6))\n",
    "sns.lineplot(df_items['playtime_forever'])\n",
    "plt.title('Distribución de minutos jugados')\n",
    "plt.xlabel('Minutos jugados')\n",
    "plt.ylabel('Juegos')\n",
    "plt.show()\n",
    "plt.figure(figsize=(10, 6))\n",
    "sns.boxplot(x = df_items['playtime_forever'])\n",
    "plt.title('Distribución de minutos jugados')\n",
    "plt.xlabel('Minutos jugados')\n",
    "plt.ylabel('Juegos')\n",
    "plt.show()"
   ]
  },
  {
   "cell_type": "code",
   "execution_count": 27,
   "metadata": {},
   "outputs": [
    {
     "name": "stdout",
     "output_type": "stream",
     "text": [
      "                   user_id item_id  playtime_forever\n",
      "390625               wolop    4000          642773.0\n",
      "1606608        Evilutional  212200          635295.0\n",
      "2589144  76561198019826668   42710          632452.0\n",
      "972787   76561198039832932    4000          613411.0\n",
      "1187140         tsunamitad   72200          600068.0\n"
     ]
    }
   ],
   "source": [
    "fila_resultado = df_items.nlargest(5, 'playtime_forever')\n",
    "print(fila_resultado)"
   ]
  },
  {
   "cell_type": "markdown",
   "metadata": {},
   "source": [
    "En este caso los Outliers detectados representan la cantidad de minutos de juego de un usuario en particular, es posible que tengamos jugadores muy compenetrados con un juego y registre altas horas de game play"
   ]
  },
  {
   "cell_type": "markdown",
   "metadata": {},
   "source": [
    "## EDA del dataset  `user_reviews`\n",
    "En esta sección se desarrolla el Análisis Exploratorio de los Datos del conjunto `user_reviews` que ya pasó por el proceso de ETL."
   ]
  },
  {
   "cell_type": "code",
   "execution_count": 28,
   "metadata": {},
   "outputs": [
    {
     "data": {
      "text/html": [
       "<div>\n",
       "<style scoped>\n",
       "    .dataframe tbody tr th:only-of-type {\n",
       "        vertical-align: middle;\n",
       "    }\n",
       "\n",
       "    .dataframe tbody tr th {\n",
       "        vertical-align: top;\n",
       "    }\n",
       "\n",
       "    .dataframe thead th {\n",
       "        text-align: right;\n",
       "    }\n",
       "</style>\n",
       "<table border=\"1\" class=\"dataframe\">\n",
       "  <thead>\n",
       "    <tr style=\"text-align: right;\">\n",
       "      <th></th>\n",
       "      <th>posted</th>\n",
       "      <th>item_id</th>\n",
       "      <th>recommend</th>\n",
       "      <th>review</th>\n",
       "      <th>user_id</th>\n",
       "      <th>Sentiment_analysis</th>\n",
       "    </tr>\n",
       "  </thead>\n",
       "  <tbody>\n",
       "    <tr>\n",
       "      <th>0</th>\n",
       "      <td>2011-11-05</td>\n",
       "      <td>1250</td>\n",
       "      <td>True</td>\n",
       "      <td>Simple yet with great replayability. In my opi...</td>\n",
       "      <td>76561197970982479</td>\n",
       "      <td>2</td>\n",
       "    </tr>\n",
       "    <tr>\n",
       "      <th>1</th>\n",
       "      <td>2011-07-15</td>\n",
       "      <td>22200</td>\n",
       "      <td>True</td>\n",
       "      <td>It's unique and worth a playthrough.</td>\n",
       "      <td>76561197970982479</td>\n",
       "      <td>2</td>\n",
       "    </tr>\n",
       "    <tr>\n",
       "      <th>2</th>\n",
       "      <td>2011-04-21</td>\n",
       "      <td>43110</td>\n",
       "      <td>True</td>\n",
       "      <td>Great atmosphere. The gunplay can be a bit chu...</td>\n",
       "      <td>76561197970982479</td>\n",
       "      <td>1</td>\n",
       "    </tr>\n",
       "    <tr>\n",
       "      <th>3</th>\n",
       "      <td>2014-06-24</td>\n",
       "      <td>251610</td>\n",
       "      <td>True</td>\n",
       "      <td>I know what you think when you see this title ...</td>\n",
       "      <td>js41637</td>\n",
       "      <td>2</td>\n",
       "    </tr>\n",
       "    <tr>\n",
       "      <th>4</th>\n",
       "      <td>2013-09-08</td>\n",
       "      <td>227300</td>\n",
       "      <td>True</td>\n",
       "      <td>For a simple (it's actually not all that simpl...</td>\n",
       "      <td>js41637</td>\n",
       "      <td>1</td>\n",
       "    </tr>\n",
       "  </tbody>\n",
       "</table>\n",
       "</div>"
      ],
      "text/plain": [
       "      posted item_id  recommend  \\\n",
       "0 2011-11-05    1250       True   \n",
       "1 2011-07-15   22200       True   \n",
       "2 2011-04-21   43110       True   \n",
       "3 2014-06-24  251610       True   \n",
       "4 2013-09-08  227300       True   \n",
       "\n",
       "                                              review            user_id  \\\n",
       "0  Simple yet with great replayability. In my opi...  76561197970982479   \n",
       "1               It's unique and worth a playthrough.  76561197970982479   \n",
       "2  Great atmosphere. The gunplay can be a bit chu...  76561197970982479   \n",
       "3  I know what you think when you see this title ...            js41637   \n",
       "4  For a simple (it's actually not all that simpl...            js41637   \n",
       "\n",
       "   Sentiment_analysis  \n",
       "0                   2  \n",
       "1                   2  \n",
       "2                   1  \n",
       "3                   2  \n",
       "4                   1  "
      ]
     },
     "execution_count": 28,
     "metadata": {},
     "output_type": "execute_result"
    }
   ],
   "source": [
    "df_reviews = pd.read_parquet('user_reviews.parquet')\n",
    "df_reviews.head()"
   ]
  },
  {
   "cell_type": "markdown",
   "metadata": {},
   "source": [
    "### Analizamos los Nulos"
   ]
  },
  {
   "cell_type": "code",
   "execution_count": 29,
   "metadata": {},
   "outputs": [
    {
     "data": {
      "text/html": [
       "<div>\n",
       "<style scoped>\n",
       "    .dataframe tbody tr th:only-of-type {\n",
       "        vertical-align: middle;\n",
       "    }\n",
       "\n",
       "    .dataframe tbody tr th {\n",
       "        vertical-align: top;\n",
       "    }\n",
       "\n",
       "    .dataframe thead th {\n",
       "        text-align: right;\n",
       "    }\n",
       "</style>\n",
       "<table border=\"1\" class=\"dataframe\">\n",
       "  <thead>\n",
       "    <tr style=\"text-align: right;\">\n",
       "      <th></th>\n",
       "      <th>posted</th>\n",
       "      <th>item_id</th>\n",
       "      <th>recommend</th>\n",
       "      <th>review</th>\n",
       "      <th>user_id</th>\n",
       "      <th>Sentiment_analysis</th>\n",
       "    </tr>\n",
       "  </thead>\n",
       "  <tbody>\n",
       "  </tbody>\n",
       "</table>\n",
       "</div>"
      ],
      "text/plain": [
       "Empty DataFrame\n",
       "Columns: [posted, item_id, recommend, review, user_id, Sentiment_analysis]\n",
       "Index: []"
      ]
     },
     "execution_count": 29,
     "metadata": {},
     "output_type": "execute_result"
    }
   ],
   "source": [
    "fila_resultado = df_reviews[df_reviews.isnull().all(axis=1)]\n",
    "fila_resultado"
   ]
  },
  {
   "cell_type": "markdown",
   "metadata": {},
   "source": [
    "No hay nulos"
   ]
  },
  {
   "cell_type": "markdown",
   "metadata": {},
   "source": [
    "### Analizamos los duplicados"
   ]
  },
  {
   "cell_type": "code",
   "execution_count": 30,
   "metadata": {},
   "outputs": [
    {
     "data": {
      "text/plain": [
       "76561198108415635      10\n",
       "NanoPi                 10\n",
       "banksyyo               10\n",
       "snubbo                 10\n",
       "BuffinMutton           10\n",
       "                       ..\n",
       "554076033               1\n",
       "_maximus                1\n",
       "maxstupo                1\n",
       "maxy21                  1\n",
       "SkullainnLovesGoats     1\n",
       "Name: user_id, Length: 25458, dtype: int64"
      ]
     },
     "execution_count": 30,
     "metadata": {},
     "output_type": "execute_result"
    }
   ],
   "source": [
    "call_id_counts = df_reviews['user_id'].value_counts()\n",
    "call_id_counts"
   ]
  },
  {
   "cell_type": "code",
   "execution_count": 31,
   "metadata": {},
   "outputs": [
    {
     "data": {
      "text/plain": [
       "730       3708\n",
       "440       3694\n",
       "4000      1704\n",
       "570       1544\n",
       "218620    1113\n",
       "          ... \n",
       "33100        1\n",
       "312720       1\n",
       "449980       1\n",
       "32770        1\n",
       "431510       1\n",
       "Name: item_id, Length: 3682, dtype: int64"
      ]
     },
     "execution_count": 31,
     "metadata": {},
     "output_type": "execute_result"
    }
   ],
   "source": [
    "call_id_counts = df_reviews['item_id'].value_counts()\n",
    "call_id_counts"
   ]
  },
  {
   "cell_type": "code",
   "execution_count": 32,
   "metadata": {},
   "outputs": [
    {
     "data": {
      "text/plain": [
       "2014-06-21    220\n",
       "2014-06-20    192\n",
       "2014-06-27    171\n",
       "2014-06-23    171\n",
       "2013-12-26    169\n",
       "             ... \n",
       "2011-03-25      1\n",
       "2011-11-16      1\n",
       "2011-05-28      1\n",
       "2012-02-01      1\n",
       "2012-11-03      1\n",
       "Name: posted, Length: 1906, dtype: int64"
      ]
     },
     "execution_count": 32,
     "metadata": {},
     "output_type": "execute_result"
    }
   ],
   "source": [
    "call_id_counts = df_reviews['posted'].value_counts()\n",
    "call_id_counts"
   ]
  },
  {
   "cell_type": "markdown",
   "metadata": {},
   "source": [
    "### Analizamos los tipos de datos"
   ]
  },
  {
   "cell_type": "code",
   "execution_count": 33,
   "metadata": {},
   "outputs": [
    {
     "name": "stdout",
     "output_type": "stream",
     "text": [
      "<class 'pandas.core.frame.DataFrame'>\n",
      "RangeIndex: 58431 entries, 0 to 58430\n",
      "Data columns (total 6 columns):\n",
      " #   Column              Non-Null Count  Dtype         \n",
      "---  ------              --------------  -----         \n",
      " 0   posted              58431 non-null  datetime64[ns]\n",
      " 1   item_id             58431 non-null  object        \n",
      " 2   recommend           58431 non-null  bool          \n",
      " 3   review              58431 non-null  object        \n",
      " 4   user_id             58431 non-null  object        \n",
      " 5   Sentiment_analysis  58431 non-null  int64         \n",
      "dtypes: bool(1), datetime64[ns](1), int64(1), object(3)\n",
      "memory usage: 2.3+ MB\n"
     ]
    }
   ],
   "source": [
    "df_reviews.info()"
   ]
  },
  {
   "cell_type": "code",
   "execution_count": 34,
   "metadata": {},
   "outputs": [
    {
     "name": "stdout",
     "output_type": "stream",
     "text": [
      "Cantidad de usuarios que opinaron: 25458\n"
     ]
    }
   ],
   "source": [
    "print(f\"Cantidad de usuarios que opinaron: {len(df_reviews['user_id'].unique())}\")"
   ]
  },
  {
   "cell_type": "code",
   "execution_count": 35,
   "metadata": {},
   "outputs": [
    {
     "data": {
      "image/png": "[encoded data removed]",
      "text/plain": [
       "<Figure size 1400x400 with 1 Axes>"
      ]
     },
     "metadata": {},
     "output_type": "display_data"
    }
   ],
   "source": [
    "# Calcula la cantidad de review por fecha\n",
    "\n",
    "df_filtered = df_reviews[df_reviews['posted'] != 2024]\n",
    "df_counts = df_filtered.groupby(\"posted\").count()\n",
    "plt.figure(figsize=(14, 4))\n",
    "sns.lineplot(data=df_counts, x=\"posted\", y=\"review\")\n",
    "plt.ylabel('Cantidad de reviews')\n",
    "plt.xticks(rotation=45)\n",
    "plt.show()"
   ]
  },
  {
   "cell_type": "markdown",
   "metadata": {},
   "source": [
    "#### Segun el cuadro, vemos un patron exponencial desde el año 2014, los comentarios que figuran en 2024, son comentarios que no tenian año, pero se le agrego asi tambien podemos verlos, aunque sea como outliers y tenerlos disponibles para su analisis"
   ]
  },
  {
   "cell_type": "markdown",
   "metadata": {},
   "source": [
    "### Recomendaciones por `Sentiment_analysis` y `recommend`"
   ]
  },
  {
   "cell_type": "code",
   "execution_count": 36,
   "metadata": {},
   "outputs": [
    {
     "data": {
      "text/html": [
       "<div>\n",
       "<style scoped>\n",
       "    .dataframe tbody tr th:only-of-type {\n",
       "        vertical-align: middle;\n",
       "    }\n",
       "\n",
       "    .dataframe tbody tr th {\n",
       "        vertical-align: top;\n",
       "    }\n",
       "\n",
       "    .dataframe thead th {\n",
       "        text-align: right;\n",
       "    }\n",
       "</style>\n",
       "<table border=\"1\" class=\"dataframe\">\n",
       "  <thead>\n",
       "    <tr style=\"text-align: right;\">\n",
       "      <th></th>\n",
       "      <th></th>\n",
       "      <th>Cantidad</th>\n",
       "      <th>Porcentaje</th>\n",
       "    </tr>\n",
       "    <tr>\n",
       "      <th>Sentiment_analysis</th>\n",
       "      <th>recommend</th>\n",
       "      <th></th>\n",
       "      <th></th>\n",
       "    </tr>\n",
       "  </thead>\n",
       "  <tbody>\n",
       "    <tr>\n",
       "      <th rowspan=\"2\" valign=\"top\">0</th>\n",
       "      <th>False</th>\n",
       "      <td>2470</td>\n",
       "      <td>4.227208</td>\n",
       "    </tr>\n",
       "    <tr>\n",
       "      <th>True</th>\n",
       "      <td>5500</td>\n",
       "      <td>9.412812</td>\n",
       "    </tr>\n",
       "    <tr>\n",
       "      <th rowspan=\"2\" valign=\"top\">1</th>\n",
       "      <th>False</th>\n",
       "      <td>3175</td>\n",
       "      <td>5.433759</td>\n",
       "    </tr>\n",
       "    <tr>\n",
       "      <th>True</th>\n",
       "      <td>21398</td>\n",
       "      <td>36.620972</td>\n",
       "    </tr>\n",
       "    <tr>\n",
       "      <th rowspan=\"2\" valign=\"top\">2</th>\n",
       "      <th>False</th>\n",
       "      <td>1094</td>\n",
       "      <td>1.872294</td>\n",
       "    </tr>\n",
       "    <tr>\n",
       "      <th>True</th>\n",
       "      <td>24794</td>\n",
       "      <td>42.432955</td>\n",
       "    </tr>\n",
       "  </tbody>\n",
       "</table>\n",
       "</div>"
      ],
      "text/plain": [
       "                              Cantidad  Porcentaje\n",
       "Sentiment_analysis recommend                      \n",
       "0                  False          2470    4.227208\n",
       "                   True           5500    9.412812\n",
       "1                  False          3175    5.433759\n",
       "                   True          21398   36.620972\n",
       "2                  False          1094    1.872294\n",
       "                   True          24794   42.432955"
      ]
     },
     "execution_count": 36,
     "metadata": {},
     "output_type": "execute_result"
    }
   ],
   "source": [
    "# Se agrupa por 'sentiment_analysis' y 'reviews_recommend'\n",
    "df_agrupado = df_reviews.groupby(['Sentiment_analysis', 'recommend'])\n",
    "# Se cuentan la cantidad de reviews en cada grupo\n",
    "cantidad_grupo = df_agrupado.size()\n",
    "# Se calcula el porcentaje por cada grupo\n",
    "porcentaje_grupo = 100 * df_agrupado.size() / len(df_reviews)\n",
    "# Se crea un datafram con el resumen\n",
    "sentimiento_recomendacion = pd.DataFrame({\n",
    "    \"Cantidad\": cantidad_grupo,\n",
    "    \"Porcentaje\": porcentaje_grupo\n",
    "})\n",
    "sentimiento_recomendacion"
   ]
  },
  {
   "cell_type": "markdown",
   "metadata": {},
   "source": [
    "Lease como Positivos = 1, Neutrales = 2, Negativos = 0\n",
    "\n",
    "Se puede ver que el sentimiento neutral recomienda el juego por lo que un podría estar relacionado con un comentario sencillo sin muchos detalles pero que aún así el juego le gustó como para recomendar. Por otra parte, de los comentarios que reflejaron un sentimiento negativo, aún recomienda el juego, lo que es algo contradictorio, a lo mejor simplemente no le gusto alguna parte del mismo, pero aun asi lo recomienda."
   ]
  },
  {
   "cell_type": "code",
   "execution_count": 37,
   "metadata": {},
   "outputs": [
    {
     "data": {
      "image/png": "[encoded data removed]",
      "text/plain": [
       "<Figure size 800x600 with 1 Axes>"
      ]
     },
     "metadata": {},
     "output_type": "display_data"
    }
   ],
   "source": [
    "# Calcular la frecuencia de cada valor en la columna Sentiment_analysis\n",
    "sentiment_counts = df_reviews['Sentiment_analysis'].value_counts()\n",
    "\n",
    "# Crear un gráfico de barras\n",
    "plt.figure(figsize=(8, 6))\n",
    "sentiment_counts.plot(kind='bar', color='red')\n",
    "plt.title('Distribución del Análisis de Sentimiento')\n",
    "plt.xlabel('Sentimiento')\n",
    "plt.ylabel('Frecuencia')\n",
    "plt.xticks(rotation=0) \n",
    "plt.show()"
   ]
  }
 ],
 "metadata": {
  "kernelspec": {
   "display_name": "mlenv",
   "language": "python",
   "name": "python3"
  },
  "language_info": {
   "codemirror_mode": {
    "name": "ipython",
    "version": 3
   },
   "file_extension": ".py",
   "mimetype": "text/x-python",
   "name": "python",
   "nbconvert_exporter": "python",
   "pygments_lexer": "ipython3",
   "version": "3.10.9"
  },
  "orig_nbformat": 4
 },
 "nbformat": 4,
 "nbformat_minor": 2
}
